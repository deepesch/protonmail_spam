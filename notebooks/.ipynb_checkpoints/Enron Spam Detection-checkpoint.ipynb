{
 "cells": [
  {
   "cell_type": "code",
   "execution_count": 2,
   "metadata": {},
   "outputs": [],
   "source": [
    "import os\n",
    "from sklearn.feature_extraction.text import CountVectorizer\n",
    "import joblib\n",
    "from sklearn import metrics\n",
    "from sklearn.naive_bayes import MultinomialNB\n",
    "from sklearn.model_selection import train_test_split\n",
    "from features import Features\n"
   ]
  },
  {
   "cell_type": "markdown",
   "metadata": {},
   "source": [
    "## Enron Spam dataset source : http://www.aueb.gr/users/ion/data/enron-spam"
   ]
  },
  {
   "cell_type": "code",
   "execution_count": 5,
   "metadata": {},
   "outputs": [
    {
     "name": "stdout",
     "output_type": "stream",
     "text": [
      "../data/processed/enron1/spam [] 1500\n",
      "../data/processed/enron1/ham [] 3672\n",
      "../data/processed/enron6/spam [] 4500\n",
      "../data/processed/enron6/ham [] 1500\n",
      "../data/processed/enron5/spam [] 3675\n",
      "../data/processed/enron5/ham [] 1500\n",
      "../data/processed/enron2/spam [] 1496\n",
      "../data/processed/enron2/ham [] 4361\n",
      "../data/processed/enron3/spam [] 1500\n",
      "../data/processed/enron3/ham [] 4012\n",
      "../data/processed/enron4/spam [] 4500\n",
      "../data/processed/enron4/ham [] 1500\n"
     ]
    }
   ],
   "source": [
    "data_directory = \"../data/processed\"\n",
    "for directories, subdirs, files in os.walk(data_directory):\n",
    "    if (os.path.split(directories)[1]  == 'spam'):\n",
    "        print(directories, subdirs, len(files))\n",
    "\n",
    "    if (os.path.split(directories)[1]  == 'ham'):\n",
    "        print(directories, subdirs, len(files))"
   ]
  },
  {
   "cell_type": "code",
   "execution_count": 10,
   "metadata": {},
   "outputs": [],
   "source": [
    "#Reading all the files in those folders.\n",
    "model_file=\"../models/spam_mnb.pkl\"\n",
    "vocabulary_file=\"../models/spam_vocabulary.pkl\"\n",
    "max_features=20000\n",
    "local_model_threshold = 0.5\n",
    "\n",
    "def load_files():\n",
    "    # We read the files and append them to the ham and spam list\n",
    "    ham_list = []\n",
    "    spam_list = []\n",
    "    for directories, subdirs, files in os.walk(data_directory):\n",
    "        if (os.path.split(directories)[1]  == 'ham'):\n",
    "            for file_name in files:      \n",
    "                with open(os.path.join(directories, file_name), encoding=\"latin-1\") as f:\n",
    "                    message = f.read()\n",
    "                    ham_list.append(message)\n",
    "\n",
    "        if (os.path.split(directories)[1]  == 'spam'):\n",
    "            for file_name in files:\n",
    "                with open(os.path.join(directories, file_name), encoding=\"latin-1\") as f:\n",
    "                    message = f.read()\n",
    "                    spam_list.append(message)\n",
    "                    \n",
    "    return ham_list, spam_list"
   ]
  },
  {
   "cell_type": "code",
   "execution_count": 20,
   "metadata": {},
   "outputs": [
    {
     "name": "stdout",
     "output_type": "stream",
     "text": [
      "Ham Example : Subject: hpl nominations for december 28 , 1999\n",
      "( see attached file : hpll 228 . xls )\n",
      "- hpll 228 . xls\n",
      "---------------------------\n",
      "Spam Example : Subject: food for thoughts\n",
      "[\n",
      "join now - take\n",
      "a free tour ]\n",
      "click here to be\n",
      "removed .\n",
      "\n"
     ]
    }
   ],
   "source": [
    "model_file=\"../models/spam_mnb.pkl\"\n",
    "\n",
    "ham_list, spam_list=load_files()\n",
    "print(\"Ham Example :\", ham_list[2])\n",
    "print('---------------------------')\n",
    "print(\"Spam Example :\", spam_list[2])"
   ]
  },
  {
   "cell_type": "code",
   "execution_count": 13,
   "metadata": {},
   "outputs": [],
   "source": [
    "def get_features_by_wordbag():\n",
    "    ham_list, spam_list=load_files()\n",
    "    x=ham_list + spam_list\n",
    "    y=[0]*len(ham_list)+[1]*len(spam_list)\n",
    "    vectorizer=None\n",
    "\n",
    "    if os.path.exists(vocabulary_file):\n",
    "        vocabulary=joblib.load(vocabulary_file)\n",
    "        vectorizer = CountVectorizer(\n",
    "                                     decode_error='ignore',\n",
    "                                     vocabulary=vocabulary,\n",
    "                                     strip_accents='ascii',\n",
    "                                     max_features=max_features,\n",
    "                                     stop_words='english',\n",
    "                                     max_df=1.0,\n",
    "                                     min_df=1 )\n",
    "    else:\n",
    "        vectorizer = CountVectorizer(\n",
    "                                     decode_error='ignore',\n",
    "                                     strip_accents='ascii',\n",
    "                                     max_features=max_features,\n",
    "                                     stop_words='english',\n",
    "                                     max_df=1.0,\n",
    "                                     min_df=1 )\n",
    "\n",
    "    x=vectorizer.fit_transform(x)\n",
    "    x=x.toarray()\n",
    "\n",
    "    if not os.path.exists(vocabulary_file):\n",
    "        vocabulary=vectorizer.vocabulary\n",
    "        joblib.dump(vocabulary,vocabulary_file)\n",
    "\n",
    "    return x,y"
   ]
  },
  {
   "cell_type": "code",
   "execution_count": 14,
   "metadata": {},
   "outputs": [],
   "source": [
    "def train_nb_spam():\n",
    "    X, y = get_features_by_wordbag()  # Fit the Data\n",
    "    X_train, X_test, y_train, y_test = train_test_split(X, y, test_size=0.33, random_state=42)\n",
    "    \n",
    "    nb_wordbag(X_train, X_test, y_train, y_test)\n",
    "    \n",
    "def nb_wordbag(X_train, X_test, y_train, y_test):\n",
    "    print (\"Naive Bays and wordbag\")\n",
    "    clf = MultinomialNB()\n",
    "    print  (clf)\n",
    "    clf.fit(X_train, y_train)\n",
    "    joblib.dump(clf,model_file)   \n",
    "    y_pred = clf.predict(X_test)\n",
    "    print (\"f1_score:\")\n",
    "    print (metrics.f1_score(y_test, y_pred))"
   ]
  },
  {
   "cell_type": "code",
   "execution_count": 15,
   "metadata": {},
   "outputs": [],
   "source": [
    "class Spam_Check(object):\n",
    "    def __init__(self):\n",
    "        self.name=\"Spam_Check\"\n",
    "        self.clf=joblib.load(model_file)\n",
    "        #self.features_extract=Features()\n",
    "\n",
    "    def check_spam(self,featurevectors):\n",
    "        y_pred = self.clf.predict_proba([featurevectors])[0,-1]\n",
    "        label = float(y_pred >= local_model_threshold)\n",
    "        return label"
   ]
  },
  {
   "cell_type": "code",
   "execution_count": 17,
   "metadata": {},
   "outputs": [
    {
     "name": "stdout",
     "output_type": "stream",
     "text": [
      "Naive Bays and wordbag\n",
      "MultinomialNB(alpha=1.0, class_prior=None, fit_prior=True)\n",
      "f1_score:\n",
      "0.9814601259646945\n"
     ]
    },
    {
     "data": {
      "text/plain": [
       "1.0"
      ]
     },
     "execution_count": 17,
     "metadata": {},
     "output_type": "execute_result"
    }
   ],
   "source": [
    "train_nb_spam()\n",
    "spam_Check=Spam_Check()\n",
    "features_extract = Features(vocabulary_file)\n",
    "featurevectors=features_extract.extract(\"learn to make a fortune with ICO!\")\n",
    "spam_Check.check_spam(featurevectors)"
   ]
  }
 ],
 "metadata": {
  "kernelspec": {
   "display_name": "Python 3",
   "language": "python",
   "name": "python3"
  },
  "language_info": {
   "codemirror_mode": {
    "name": "ipython",
    "version": 3
   },
   "file_extension": ".py",
   "mimetype": "text/x-python",
   "name": "python",
   "nbconvert_exporter": "python",
   "pygments_lexer": "ipython3",
   "version": "3.7.0"
  }
 },
 "nbformat": 4,
 "nbformat_minor": 2
}
